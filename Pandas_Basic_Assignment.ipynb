{
 "cells": [
  {
   "cell_type": "markdown",
   "id": "ff4de37a-d9d1-4935-bdec-bd2ea674fa55",
   "metadata": {},
   "source": [
    "Q1. Create a Pandas Series that contains the following data: 4, 8, 15, 16, 23, and 42. Then, print the series."
   ]
  },
  {
   "cell_type": "code",
   "execution_count": 1,
   "id": "3fc28334-77e6-484d-81c8-e509ee9d2cfb",
   "metadata": {},
   "outputs": [],
   "source": [
    "import pandas as pd"
   ]
  },
  {
   "cell_type": "code",
   "execution_count": 2,
   "id": "d2cbd177-11ee-4e9d-af1a-b2d03e7c633d",
   "metadata": {},
   "outputs": [],
   "source": [
    "data = [4,8,15,16,23,42]"
   ]
  },
  {
   "cell_type": "code",
   "execution_count": 3,
   "id": "b524fe75-14d2-43d6-b95a-7541e5fecaf7",
   "metadata": {},
   "outputs": [
    {
     "data": {
      "text/plain": [
       "[4, 8, 15, 16, 23, 42]"
      ]
     },
     "execution_count": 3,
     "metadata": {},
     "output_type": "execute_result"
    }
   ],
   "source": [
    "data"
   ]
  },
  {
   "cell_type": "code",
   "execution_count": 4,
   "id": "dd51d5e7-c708-45ec-b51b-e1aec99aaf5e",
   "metadata": {},
   "outputs": [],
   "source": [
    "series = pd.Series(data)"
   ]
  },
  {
   "cell_type": "code",
   "execution_count": 5,
   "id": "0a575358-fac9-494f-81b6-b3492bcba679",
   "metadata": {},
   "outputs": [
    {
     "data": {
      "text/plain": [
       "0     4\n",
       "1     8\n",
       "2    15\n",
       "3    16\n",
       "4    23\n",
       "5    42\n",
       "dtype: int64"
      ]
     },
     "execution_count": 5,
     "metadata": {},
     "output_type": "execute_result"
    }
   ],
   "source": [
    "series"
   ]
  },
  {
   "cell_type": "markdown",
   "id": "62be4008-8570-4b6a-8a98-c9c8f0a7c604",
   "metadata": {},
   "source": [
    "Q2. Create a variable of list type containing 10 elements in it, and apply pandas. Series function on the variable print it."
   ]
  },
  {
   "cell_type": "code",
   "execution_count": 7,
   "id": "0629aec1-0b0f-4cd2-954b-467cae7c1049",
   "metadata": {},
   "outputs": [],
   "source": [
    "data1 = [1,2,3,4,5,6,7,8,9,10]\n",
    "series1 = pd.Series(data1)"
   ]
  },
  {
   "cell_type": "code",
   "execution_count": 8,
   "id": "fb6b69ac-bbc2-440b-b056-5ac16077ba32",
   "metadata": {},
   "outputs": [
    {
     "data": {
      "text/plain": [
       "0     1\n",
       "1     2\n",
       "2     3\n",
       "3     4\n",
       "4     5\n",
       "5     6\n",
       "6     7\n",
       "7     8\n",
       "8     9\n",
       "9    10\n",
       "dtype: int64"
      ]
     },
     "execution_count": 8,
     "metadata": {},
     "output_type": "execute_result"
    }
   ],
   "source": [
    "series1"
   ]
  },
  {
   "cell_type": "markdown",
   "id": "47e393d0-5e2e-4a17-a324-5bf9cb36efc8",
   "metadata": {},
   "source": [
    "Q3. Create a Pandas DataFrame that contains the following data:\n",
    "\n",
    "Name:\n",
    "Alice,\n",
    "Bob,\n",
    "Claire\n",
    "\n",
    "Age:\n",
    "25,\n",
    "30,\n",
    "27\n",
    "\n",
    "Gender:\n",
    "Female,\n",
    "Male,\n",
    "Female"
   ]
  },
  {
   "cell_type": "code",
   "execution_count": 10,
   "id": "ef5b2472-d370-4e9a-85a7-51ac75738ed0",
   "metadata": {},
   "outputs": [],
   "source": [
    "data2 = {'Name': ['Alice', 'Bob', 'Claire'],\n",
    "         'Age': [25, 30, 27],\n",
    "         'Gender': ['Female', 'Male', 'Female']}"
   ]
  },
  {
   "cell_type": "code",
   "execution_count": 11,
   "id": "d5611096-2fd0-432c-9031-f3755b7d0f70",
   "metadata": {},
   "outputs": [],
   "source": [
    "df = pd.DataFrame(data2)"
   ]
  },
  {
   "cell_type": "code",
   "execution_count": 12,
   "id": "4e1bb957-d757-43f0-b28a-d158024b2d96",
   "metadata": {},
   "outputs": [
    {
     "data": {
      "text/html": [
       "<div>\n",
       "<style scoped>\n",
       "    .dataframe tbody tr th:only-of-type {\n",
       "        vertical-align: middle;\n",
       "    }\n",
       "\n",
       "    .dataframe tbody tr th {\n",
       "        vertical-align: top;\n",
       "    }\n",
       "\n",
       "    .dataframe thead th {\n",
       "        text-align: right;\n",
       "    }\n",
       "</style>\n",
       "<table border=\"1\" class=\"dataframe\">\n",
       "  <thead>\n",
       "    <tr style=\"text-align: right;\">\n",
       "      <th></th>\n",
       "      <th>Name</th>\n",
       "      <th>Age</th>\n",
       "      <th>Gender</th>\n",
       "    </tr>\n",
       "  </thead>\n",
       "  <tbody>\n",
       "    <tr>\n",
       "      <th>0</th>\n",
       "      <td>Alice</td>\n",
       "      <td>25</td>\n",
       "      <td>Female</td>\n",
       "    </tr>\n",
       "    <tr>\n",
       "      <th>1</th>\n",
       "      <td>Bob</td>\n",
       "      <td>30</td>\n",
       "      <td>Male</td>\n",
       "    </tr>\n",
       "    <tr>\n",
       "      <th>2</th>\n",
       "      <td>Claire</td>\n",
       "      <td>27</td>\n",
       "      <td>Female</td>\n",
       "    </tr>\n",
       "  </tbody>\n",
       "</table>\n",
       "</div>"
      ],
      "text/plain": [
       "     Name  Age  Gender\n",
       "0   Alice   25  Female\n",
       "1     Bob   30    Male\n",
       "2  Claire   27  Female"
      ]
     },
     "execution_count": 12,
     "metadata": {},
     "output_type": "execute_result"
    }
   ],
   "source": [
    "df"
   ]
  },
  {
   "cell_type": "markdown",
   "id": "723d382d-aa7d-4ffb-976c-db8f79117220",
   "metadata": {},
   "source": [
    "Q4. What is ‘DataFrame’ in pandas and how is it different from pandas.series? Explain with an example."
   ]
  },
  {
   "cell_type": "markdown",
   "id": "df4e8b3c-08bb-4123-914c-d00699afadec",
   "metadata": {},
   "source": [
    "In Pandas, a DataFrame is a two-dimensional tabular data structure that consists of rows and columns, similar to a spreadsheet or a SQL table. It is a collection of one or more Pandas Series objects, where each column represents a series of data, and the rows contain the observations or records.\n",
    "\n",
    "On the other hand, a Pandas Series is a one-dimensional labeled array that can hold any data type, such as integers, strings, or floating-point numbers. A DataFrame can be thought of as a collection of Pandas Series objects that share the same index, with each column representing a different variable, and each row representing a different observation or data point.\n"
   ]
  },
  {
   "cell_type": "code",
   "execution_count": 13,
   "id": "f91e1f8e-752e-4401-872a-a8dfd4a31fe8",
   "metadata": {},
   "outputs": [],
   "source": [
    "# Creating a Pandas Series\n",
    "series2 = pd.Series([10, 20, 30, 40])\n",
    "\n",
    "# Creating a Pandas DataFrame\n",
    "df1 = pd.DataFrame({\n",
    "    'A': [10, 20, 30, 40],\n",
    "    'B': ['chandan', 'aayush', 'rohit', 'ravinder'],\n",
    "})"
   ]
  },
  {
   "cell_type": "code",
   "execution_count": 14,
   "id": "72c81752-d692-46d8-b731-5bf2cec6f70e",
   "metadata": {},
   "outputs": [
    {
     "data": {
      "text/plain": [
       "0    10\n",
       "1    20\n",
       "2    30\n",
       "3    40\n",
       "dtype: int64"
      ]
     },
     "execution_count": 14,
     "metadata": {},
     "output_type": "execute_result"
    }
   ],
   "source": [
    "series2"
   ]
  },
  {
   "cell_type": "code",
   "execution_count": 15,
   "id": "018ade46-5c8c-4595-a5da-b73126d1d6d1",
   "metadata": {},
   "outputs": [
    {
     "data": {
      "text/html": [
       "<div>\n",
       "<style scoped>\n",
       "    .dataframe tbody tr th:only-of-type {\n",
       "        vertical-align: middle;\n",
       "    }\n",
       "\n",
       "    .dataframe tbody tr th {\n",
       "        vertical-align: top;\n",
       "    }\n",
       "\n",
       "    .dataframe thead th {\n",
       "        text-align: right;\n",
       "    }\n",
       "</style>\n",
       "<table border=\"1\" class=\"dataframe\">\n",
       "  <thead>\n",
       "    <tr style=\"text-align: right;\">\n",
       "      <th></th>\n",
       "      <th>A</th>\n",
       "      <th>B</th>\n",
       "    </tr>\n",
       "  </thead>\n",
       "  <tbody>\n",
       "    <tr>\n",
       "      <th>0</th>\n",
       "      <td>10</td>\n",
       "      <td>chandan</td>\n",
       "    </tr>\n",
       "    <tr>\n",
       "      <th>1</th>\n",
       "      <td>20</td>\n",
       "      <td>aayush</td>\n",
       "    </tr>\n",
       "    <tr>\n",
       "      <th>2</th>\n",
       "      <td>30</td>\n",
       "      <td>rohit</td>\n",
       "    </tr>\n",
       "    <tr>\n",
       "      <th>3</th>\n",
       "      <td>40</td>\n",
       "      <td>ravinder</td>\n",
       "    </tr>\n",
       "  </tbody>\n",
       "</table>\n",
       "</div>"
      ],
      "text/plain": [
       "    A         B\n",
       "0  10   chandan\n",
       "1  20    aayush\n",
       "2  30     rohit\n",
       "3  40  ravinder"
      ]
     },
     "execution_count": 15,
     "metadata": {},
     "output_type": "execute_result"
    }
   ],
   "source": [
    "df1"
   ]
  },
  {
   "cell_type": "markdown",
   "id": "78cf4372-c0e0-4012-b33f-7e127a80f461",
   "metadata": {},
   "source": [
    "Q5. What are some common functions you can use to manipulate data in a Pandas DataFrame? Can you give an example of when you might use one of these functions?"
   ]
  },
  {
   "cell_type": "code",
   "execution_count": 31,
   "id": "5539a6cc-1ae1-497f-a37c-2da39c12b8da",
   "metadata": {},
   "outputs": [],
   "source": [
    "data3 = {'Name': ['Chandan', 'ravinder', 'aayush', 'jaan', 'rahul'],\n",
    "        'Age': [25, 30, 27, 22, 28],\n",
    "        'Gender': ['Female', 'Male', 'Female', 'Male', 'Female'],\n",
    "        'Salary': [50000, 60000, 55000, 45000, 65000]}"
   ]
  },
  {
   "cell_type": "code",
   "execution_count": 32,
   "id": "17609754-7b00-47b8-9a86-76b6a94c359d",
   "metadata": {},
   "outputs": [],
   "source": [
    "df2 = pd.DataFrame(data3)\n",
    "grp1 = df2.groupby('Gender')\n",
    "average_salary = grp1['Salary'].mean()"
   ]
  },
  {
   "cell_type": "code",
   "execution_count": 33,
   "id": "6dc6c6da-3224-4e19-aa2e-55229bf5918c",
   "metadata": {},
   "outputs": [
    {
     "data": {
      "text/plain": [
       "Gender\n",
       "Female    56666.666667\n",
       "Male      52500.000000\n",
       "Name: Salary, dtype: float64"
      ]
     },
     "execution_count": 33,
     "metadata": {},
     "output_type": "execute_result"
    }
   ],
   "source": [
    "average_salary"
   ]
  },
  {
   "cell_type": "markdown",
   "id": "2ddcbba2-0580-4073-9635-06d0b83140fe",
   "metadata": {},
   "source": [
    "Q6. Which of the following is mutable in nature Series, DataFrame, Panel?"
   ]
  },
  {
   "cell_type": "markdown",
   "id": "a46be40e-6fc5-4043-b1ae-ea8710714383",
   "metadata": {},
   "source": [
    "All Pandas data structures are value mutable (can be changed) and except Series all are size mutable."
   ]
  },
  {
   "cell_type": "markdown",
   "id": "80ed9fff-802d-472d-b1fb-8178ffa7b934",
   "metadata": {},
   "source": [
    "Q7. Create a DataFrame using multiple Series. Explain with an example."
   ]
  },
  {
   "cell_type": "code",
   "execution_count": 36,
   "id": "82a3a65c-263b-401d-a537-2ebf76985c2f",
   "metadata": {},
   "outputs": [],
   "source": [
    "# Create Series for Name, Age, and Gender\n",
    "names = pd.Series(['Chandan', 'ravinder', 'aayush'])\n",
    "ages = pd.Series([25, 30, 27])\n",
    "genders = pd.Series(['Female', 'Male', 'Female'])\n",
    "\n",
    "# Concatenate the Series into a DataFrame\n",
    "df3 = pd.concat([names, ages, genders], axis=1)\n",
    "df3.columns = ['Name', 'Age', 'Gender']\n"
   ]
  },
  {
   "cell_type": "code",
   "execution_count": 37,
   "id": "0f1a2689-25c0-4f43-9829-b5e733dc4d3c",
   "metadata": {},
   "outputs": [
    {
     "data": {
      "text/html": [
       "<div>\n",
       "<style scoped>\n",
       "    .dataframe tbody tr th:only-of-type {\n",
       "        vertical-align: middle;\n",
       "    }\n",
       "\n",
       "    .dataframe tbody tr th {\n",
       "        vertical-align: top;\n",
       "    }\n",
       "\n",
       "    .dataframe thead th {\n",
       "        text-align: right;\n",
       "    }\n",
       "</style>\n",
       "<table border=\"1\" class=\"dataframe\">\n",
       "  <thead>\n",
       "    <tr style=\"text-align: right;\">\n",
       "      <th></th>\n",
       "      <th>Name</th>\n",
       "      <th>Age</th>\n",
       "      <th>Gender</th>\n",
       "    </tr>\n",
       "  </thead>\n",
       "  <tbody>\n",
       "    <tr>\n",
       "      <th>0</th>\n",
       "      <td>Chandan</td>\n",
       "      <td>25</td>\n",
       "      <td>Female</td>\n",
       "    </tr>\n",
       "    <tr>\n",
       "      <th>1</th>\n",
       "      <td>ravinder</td>\n",
       "      <td>30</td>\n",
       "      <td>Male</td>\n",
       "    </tr>\n",
       "    <tr>\n",
       "      <th>2</th>\n",
       "      <td>aayush</td>\n",
       "      <td>27</td>\n",
       "      <td>Female</td>\n",
       "    </tr>\n",
       "  </tbody>\n",
       "</table>\n",
       "</div>"
      ],
      "text/plain": [
       "       Name  Age  Gender\n",
       "0   Chandan   25  Female\n",
       "1  ravinder   30    Male\n",
       "2    aayush   27  Female"
      ]
     },
     "execution_count": 37,
     "metadata": {},
     "output_type": "execute_result"
    }
   ],
   "source": [
    "df3"
   ]
  }
 ],
 "metadata": {
  "kernelspec": {
   "display_name": "Python 3 (ipykernel)",
   "language": "python",
   "name": "python3"
  },
  "language_info": {
   "codemirror_mode": {
    "name": "ipython",
    "version": 3
   },
   "file_extension": ".py",
   "mimetype": "text/x-python",
   "name": "python",
   "nbconvert_exporter": "python",
   "pygments_lexer": "ipython3",
   "version": "3.10.8"
  }
 },
 "nbformat": 4,
 "nbformat_minor": 5
}
